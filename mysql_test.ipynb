{
 "cells": [
  {
   "cell_type": "code",
   "execution_count": 5,
   "metadata": {},
   "outputs": [
    {
     "name": "stdout",
     "output_type": "stream",
     "text": [
      "('information_schema',)\n",
      "('mysql',)\n",
      "('performance_schema',)\n",
      "('sakila',)\n",
      "('sys',)\n",
      "('world',)\n"
     ]
    }
   ],
   "source": [
    "import mysql.connector\n",
    "\n",
    "mydb = mysql.connector.connect(\n",
    "  host=\"localhost\",\n",
    "#   database=\"QQ\",\n",
    "  user=\"root\",\n",
    "  passwd=\"root\"\n",
    ")\n",
    "mycursor = mydb.cursor()\n",
    "\n",
    "mycursor.execute(\"SHOW DATABASES\")\n",
    "for x in mycursor:\n",
    "  print(x)"
   ]
  },
  {
   "cell_type": "code",
   "execution_count": 10,
   "metadata": {},
   "outputs": [
    {
     "name": "stdout",
     "output_type": "stream",
     "text": [
      "('columns_priv',)\n",
      "('component',)\n",
      "('db',)\n",
      "('default_roles',)\n",
      "('engine_cost',)\n",
      "('func',)\n",
      "('general_log',)\n",
      "('global_grants',)\n",
      "('gtid_executed',)\n",
      "('help_category',)\n",
      "('help_keyword',)\n",
      "('help_relation',)\n",
      "('help_topic',)\n",
      "('innodb_index_stats',)\n",
      "('innodb_table_stats',)\n",
      "('password_history',)\n",
      "('plugin',)\n",
      "('procs_priv',)\n",
      "('proxies_priv',)\n",
      "('role_edges',)\n",
      "('server_cost',)\n",
      "('servers',)\n",
      "('slave_master_info',)\n",
      "('slave_relay_log_info',)\n",
      "('slave_worker_info',)\n",
      "('slow_log',)\n",
      "('tables_priv',)\n",
      "('time_zone',)\n",
      "('time_zone_leap_second',)\n",
      "('time_zone_name',)\n",
      "('time_zone_transition',)\n",
      "('time_zone_transition_type',)\n",
      "('user',)\n"
     ]
    }
   ],
   "source": [
    "import mysql.connector\n",
    "\n",
    "mydb = mysql.connector.connect(\n",
    "  host=\"localhost\",\n",
    "  database=\"mysql\",\n",
    "  user=\"root\",\n",
    "  passwd=\"root\"\n",
    "    \n",
    ")\n",
    "mycursor = mydb.cursor()\n",
    "\n",
    "mycursor.execute(\"SHOW TABLES\")\n",
    "\n",
    "for x in mycursor:\n",
    "  print(x)\n",
    "\n"
   ]
  }
 ],
 "metadata": {
  "kernelspec": {
   "display_name": "'my_env'",
   "language": "python",
   "name": "my_env"
  },
  "language_info": {
   "codemirror_mode": {
    "name": "ipython",
    "version": 3
   },
   "file_extension": ".py",
   "mimetype": "text/x-python",
   "name": "python",
   "nbconvert_exporter": "python",
   "pygments_lexer": "ipython3",
   "version": "3.7.4"
  }
 },
 "nbformat": 4,
 "nbformat_minor": 2
}
